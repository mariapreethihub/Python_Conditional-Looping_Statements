{
 "cells": [
  {
   "cell_type": "markdown",
   "id": "a493ac93-2e46-4aee-868c-158bc27a9953",
   "metadata": {},
   "source": [
    "## 1.Name your file: MonthNames.py.Write a program that reads an integer value between 1 and 12 from the user and prints output the corresponding month of the year.\n"
   ]
  },
  {
   "cell_type": "code",
   "execution_count": 3,
   "id": "7a345ebe-319c-4559-b09f-da21d7a2a12c",
   "metadata": {},
   "outputs": [
    {
     "name": "stdin",
     "output_type": "stream",
     "text": [
      "Enter the month : 5\n"
     ]
    },
    {
     "name": "stdout",
     "output_type": "stream",
     "text": [
      "Month 5 is : May\n"
     ]
    }
   ],
   "source": [
    "MonthNames=int(input(\"Enter the month :\"))\n",
    "months=[\"January\",\"February\",\"March\",\"April\",\"May\",\"June\",\"July\",\"August\",\"September\",\"October\",\"November\",\"December\"]\n",
    "if (MonthNames ==1 or MonthNames<=12):\n",
    "    print(\"Month\",MonthNames,\"is :\",months[MonthNames-1])\n",
    "else:\n",
    "    print(\"Invalid data.Please enter value between 1 and 12\")\n"
   ]
  },
  {
   "cell_type": "markdown",
   "id": "8aca521b-a772-40ba-9379-9fee45b438e0",
   "metadata": {},
   "source": [
    "## 2.A certain cinema currently sells tickets for a full price of 6 pounds, but always sells tickets for half price to people who are less than 16 years old, and for a third of the price for people who are 60 years old or more.\n"
   ]
  },
  {
   "cell_type": "code",
   "execution_count": 5,
   "id": "8ad6ad90-1428-412f-81f7-4f5e56115dca",
   "metadata": {},
   "outputs": [
    {
     "name": "stdin",
     "output_type": "stream",
     "text": [
      "Enter your age : 5\n"
     ]
    },
    {
     "name": "stdout",
     "output_type": "stream",
     "text": [
      "Your ticket price is :£ 3.0\n"
     ]
    }
   ],
   "source": [
    "full_price=6\n",
    "Age=int(input(\"Enter your age :\"))\n",
    "if Age<16:\n",
    "    print(\"Your ticket price is :£\",full_price/2)\n",
    "\n",
    "elif Age>=60:\n",
    "    print(\"Your ticket price is:£\",full_price/3)\n",
    "else:\n",
    "    print(\"Your ticket price is :£\",full_price)"
   ]
  },
  {
   "cell_type": "markdown",
   "id": "8827f5ba-4857-43ad-9bbf-2cf7dfad36a3",
   "metadata": {},
   "source": [
    "## 3.Name your file: BodyMassIndex.py\n",
    "## Write a program to calculate your BMI and give weight status. \n",
    "Body Mass Index (BMI) is an internationally used measurement to check if you are a healthy weight for your height.\n",
    "The metric BMI formula accepts weight in kilograms and height in meters:\n",
    "## BMI= weight(kg)/height2(m2)\n",
    "BMI Weight Status Categories table\n",
    "BMI range - kg/m2   \n",
    "## Category\n",
    "Below 18.5         Underweight\n",
    "18.5 -24.9         Normal\n",
    "25 - 29.9          Overweight\n",
    "30 & Above         Obese\n"
   ]
  },
  {
   "cell_type": "code",
   "execution_count": 9,
   "id": "09914496-d538-4646-813b-1b948732c525",
   "metadata": {},
   "outputs": [
    {
     "name": "stdin",
     "output_type": "stream",
     "text": [
      "Enter weight in (kg): 50\n",
      "Enter height in (m) : 1.5\n"
     ]
    },
    {
     "name": "stdout",
     "output_type": "stream",
     "text": [
      "Your BMI is : 22.22\n",
      "You are in the \"Normal\"range\n"
     ]
    }
   ],
   "source": [
    "weight=float(input(\"Enter weight in (kg):\"))\n",
    "height=float(input(\"Enter height in (m) :\"))\n",
    "BMI=round(weight/(height*height),2)\n",
    "if BMI <18.5:\n",
    "    print(\"Your BMI is :\",BMI)\n",
    "    print(\"You are in the \\\"underweight\\\" range\")\n",
    "elif BMI >=18.5 and BMI <=24.9:\n",
    "    print(\"Your BMI is :\",BMI)\n",
    "    print(\"You are in the \\\"Normal\\\"range\")\n",
    "elif BMI >=25 and BMI <=29.9:\n",
    "    print(\"Your BMI is :\",BMI)\n",
    "    print(\"You are in the \\\"overweight\\\" range\")\n",
    "else:\n",
    "    print(\"Your BMI is :\",BMI)\n",
    "    print(\"You are Obese\")\n",
    "    "
   ]
  },
  {
   "cell_type": "markdown",
   "id": "64f7c8ae-acff-4c09-83ff-65835a795ead",
   "metadata": {},
   "source": [
    "## 4.Write a Python program to receive 3 numbers from the user and print the greatest among them"
   ]
  },
  {
   "cell_type": "code",
   "execution_count": 11,
   "id": "1a796294-4f76-4489-9e97-14a23dab857d",
   "metadata": {},
   "outputs": [
    {
     "name": "stdin",
     "output_type": "stream",
     "text": [
      "Enter the first no: 5\n",
      "Enter the second no: 10\n",
      "Enter the third no: 99\n"
     ]
    },
    {
     "name": "stdout",
     "output_type": "stream",
     "text": [
      "The greatest no is : 99\n"
     ]
    }
   ],
   "source": [
    "no1=int(input(\"Enter the first no:\"))\n",
    "no2=int(input(\"Enter the second no:\"))\n",
    "no3=int(input(\"Enter the third no:\"))\n",
    "if no1>no2 and no1>no3:\n",
    "    print(\"The greatest no is :\",no1)\n",
    "elif no2>no3:\n",
    "    print(\"The greatest no is :\",no2)\n",
    "elif no1==no2==no3:\n",
    "    print(\"The entered nos are same and the greatest no is :\" ,no1)\n",
    "else:\n",
    "    print(\"The greatest no is :\",no3)\n",
    "    "
   ]
  },
  {
   "cell_type": "code",
   "execution_count": 36,
   "id": "1ce09d88-fa9b-4da5-8d48-cb2a5df93cac",
   "metadata": {},
   "outputs": [
    {
     "name": "stdin",
     "output_type": "stream",
     "text": [
      "Enter the first no: 3\n",
      "Enter the second no: 5\n",
      "Enter the third no: 1\n"
     ]
    },
    {
     "name": "stdout",
     "output_type": "stream",
     "text": [
      "The greatest no is : 5\n"
     ]
    }
   ],
   "source": [
    "no1=int(input(\"Enter the first no:\"))\n",
    "no2=int(input(\"Enter the second no:\"))\n",
    "no3=int(input(\"Enter the third no:\"))\n",
    "nos=[no1,no2,no3]\n",
    "print(\"The greatest no is :\",max(nos))"
   ]
  },
  {
   "cell_type": "markdown",
   "id": "2e184b9d-1c4f-4e80-ac23-bbaf6d398956",
   "metadata": {},
   "source": [
    "## 5.Find the factorial of a given number using loops(note the number is received from the user)"
   ]
  },
  {
   "cell_type": "code",
   "execution_count": 23,
   "id": "7805410f-eb4d-46b0-b366-46e80eee3ec4",
   "metadata": {},
   "outputs": [
    {
     "name": "stdin",
     "output_type": "stream",
     "text": [
      "Enter the no.: 6\n"
     ]
    },
    {
     "name": "stdout",
     "output_type": "stream",
     "text": [
      "The factorial of 6 is 720\n"
     ]
    }
   ],
   "source": [
    "no=int(input(\"Enter the no.:\"))\n",
    "factorial=1\n",
    "if no< 0:\n",
    "    print(\"Please enter a postive number\")\n",
    "elif no == 0 or no == 1:\n",
    "    print(\"The factorial of\", no, \"is 1\")\n",
    "else:\n",
    "    for i in range(1, no + 1): \n",
    "        factorial *= i          \n",
    "    print(\"The factorial of\", no, \"is\", factorial)\n",
    "    factorial+=1            \n",
    "        "
   ]
  },
  {
   "cell_type": "markdown",
   "id": "454132c4-cd93-4e09-94fc-849828d9a3e4",
   "metadata": {},
   "source": [
    "## 6.Reverse a number using while loop"
   ]
  },
  {
   "cell_type": "code",
   "execution_count": 25,
   "id": "0bc47ef6-f337-4f95-bf35-bbf5f581881d",
   "metadata": {},
   "outputs": [
    {
     "name": "stdin",
     "output_type": "stream",
     "text": [
      "Enter a whole number: 65\n"
     ]
    },
    {
     "name": "stdout",
     "output_type": "stream",
     "text": [
      "56"
     ]
    }
   ],
   "source": [
    "no=input(\"Enter a whole number:\")\n",
    "l=int(len(no)) \n",
    "while l>0:\n",
    "    print(no[l-1],end=\"\") \n",
    "    l-=1           "
   ]
  },
  {
   "cell_type": "markdown",
   "id": "95644e98-02b2-4d49-8e7d-09207fbbc6b0",
   "metadata": {},
   "source": [
    "## 7.Finding the multiples of a number using loop"
   ]
  },
  {
   "cell_type": "code",
   "execution_count": 37,
   "id": "8fe959be-d4e3-4267-b689-37ad7beecf7b",
   "metadata": {},
   "outputs": [
    {
     "name": "stdin",
     "output_type": "stream",
     "text": [
      "Enter a whole number: 5\n",
      "Enter the multiplier limit: 20\n"
     ]
    },
    {
     "name": "stdout",
     "output_type": "stream",
     "text": [
      "5 * 1 = 5\n",
      "5 * 2 = 10\n",
      "5 * 3 = 15\n",
      "5 * 4 = 20\n",
      "5 * 5 = 25\n",
      "5 * 6 = 30\n",
      "5 * 7 = 35\n",
      "5 * 8 = 40\n",
      "5 * 9 = 45\n",
      "5 * 10 = 50\n",
      "5 * 11 = 55\n",
      "5 * 12 = 60\n",
      "5 * 13 = 65\n",
      "5 * 14 = 70\n",
      "5 * 15 = 75\n",
      "5 * 16 = 80\n",
      "5 * 17 = 85\n",
      "5 * 18 = 90\n",
      "5 * 19 = 95\n",
      "5 * 20 = 100\n"
     ]
    }
   ],
   "source": [
    "no=int(input(\"Enter a whole number:\"))\n",
    "limit=input(\"Enter the multiplier limit:\")\n",
    "if not limit.isdigit():\n",
    "    print(\"The multiplier limit must be an integer. Please enter a valid integer.\")\n",
    "else:\n",
    "    limit = int(limit)\n",
    "if no<0:\n",
    "    print(\"Please enter a positive number\")\n",
    "elif no==0:\n",
    "    print(\"Entered number is zero.Number multiplied by zero gives zero.\")\n",
    "elif limit==0:\n",
    "    print(\"Entered multiplier as zero.Number multiplied by zero gives zero.Please enter a no greater than zero\")\n",
    "else:\n",
    "    for multiplier in range(1,(limit+1)):  \n",
    "        value=multiplier*no\n",
    "        print(f\"{no} * {multiplier} = {value}\")                                                    \n",
    "       "
   ]
  },
  {
   "cell_type": "markdown",
   "id": "d148fa3c-6450-4db0-9847-173703baed3e",
   "metadata": {},
   "source": [
    "## 8.Write a program to print the inputted value as it is and break the loop if the value is 'done'.\n",
    "Example run of the program\n",
    ":hello there\n",
    "hello there\n",
    ":finished\n",
    "finished\n",
    ":done\n",
    "Done\n"
   ]
  },
  {
   "cell_type": "code",
   "execution_count": 39,
   "id": "1a22e170-b6b5-42ec-85a1-51ceaccfe53d",
   "metadata": {},
   "outputs": [
    {
     "name": "stdin",
     "output_type": "stream",
     "text": [
      "Enter the value hello\n"
     ]
    },
    {
     "name": "stdout",
     "output_type": "stream",
     "text": [
      "hello\n"
     ]
    },
    {
     "name": "stdin",
     "output_type": "stream",
     "text": [
      "Enter the value done\n"
     ]
    },
    {
     "name": "stdout",
     "output_type": "stream",
     "text": [
      "Entered value is 'done', hence loop is broken\n"
     ]
    }
   ],
   "source": [
    " while True:\n",
    "     data=input(\"Enter the value\")\n",
    "     value=data.capitalize()\n",
    "\n",
    "     if value==\"Done\":\n",
    "         print(\"Entered value is 'done', hence loop is broken\")\n",
    "         break\n",
    "     else:\n",
    "         print(data)"
   ]
  },
  {
   "cell_type": "markdown",
   "id": "8640dc48-16ee-4916-895e-7b3ce432a6b8",
   "metadata": {},
   "source": [
    "## 9.Write a program that prints the numbers from 1 to 10. But for multiples of three print \"Fizz\" instead of the number and for the multiple of five print \"Buzz\". For numbers which are multiples of both three and five print \"FizzBuzz\""
   ]
  },
  {
   "cell_type": "code",
   "execution_count": 43,
   "id": "3c2b9523-15d2-490a-9085-eed9167a7b62",
   "metadata": {},
   "outputs": [
    {
     "name": "stdout",
     "output_type": "stream",
     "text": [
      "Numbers from 1 to 10\n",
      "1, 2, Fizz, 4, Buzz, Fizz, 7, 8, Fizz, Buzz, "
     ]
    }
   ],
   "source": [
    "print(\"Numbers from 1 to 10\")\n",
    "for i in range(1,11):\n",
    "    if i%3==0 and i%5==0:\n",
    "        print(\"FizzBuzz,\",end=\" \")\n",
    "    elif i%5==0:\n",
    "        print(\"Buzz,\",end=\" \")\n",
    "    elif i%3==0:\n",
    "        print(\"Fizz,\",end=\" \")\n",
    "    else:\n",
    "        print(i,end=\", \") "
   ]
  },
  {
   "cell_type": "markdown",
   "id": "89550f6f-1aac-49ed-981d-da60e645c68d",
   "metadata": {},
   "source": [
    "## 10.Write a program to print the following pattern:\n",
    "\n",
    "## 5 4 3 2 1\n",
    "## 4 3 2 1\n",
    "## 3 2 1\n",
    "## 2 1\n",
    "## 1\n"
   ]
  },
  {
   "cell_type": "code",
   "execution_count": 130,
   "id": "39ab5d3d-e692-4c8c-8632-a3a24b87d58e",
   "metadata": {},
   "outputs": [
    {
     "name": "stdout",
     "output_type": "stream",
     "text": [
      "5 4 3 2 1 \n",
      "4 3 2 1 \n",
      "3 2 1 \n",
      "2 1 \n",
      "1 \n"
     ]
    }
   ],
   "source": [
    "\n",
    "for i in range(5,0,-1):\n",
    "    for j in range(i,0,-1):\n",
    "        print(j,end=\" \")\n",
    "    print()\n",
    "    \n",
    "   \n",
    "    "
   ]
  },
  {
   "cell_type": "code",
   "execution_count": null,
   "id": "3a549061-8d9d-4530-9312-153013fd731c",
   "metadata": {},
   "outputs": [],
   "source": []
  },
  {
   "cell_type": "code",
   "execution_count": null,
   "id": "26cf2e3a-36a9-406d-9b09-e6f436903757",
   "metadata": {},
   "outputs": [],
   "source": []
  }
 ],
 "metadata": {
  "kernelspec": {
   "display_name": "Python [conda env:base] *",
   "language": "python",
   "name": "conda-base-py"
  },
  "language_info": {
   "codemirror_mode": {
    "name": "ipython",
    "version": 3
   },
   "file_extension": ".py",
   "mimetype": "text/x-python",
   "name": "python",
   "nbconvert_exporter": "python",
   "pygments_lexer": "ipython3",
   "version": "3.12.7"
  }
 },
 "nbformat": 4,
 "nbformat_minor": 5
}
